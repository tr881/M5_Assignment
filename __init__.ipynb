{
 "cells": [
  {
   "cell_type": "code",
   "execution_count": 2,
   "id": "2174a60c-5e2b-4c75-bdd6-7153f42903b1",
   "metadata": {},
   "outputs": [],
   "source": [
    "def sum(arg):\n",
    "    total = 0\n",
    "    for val in arg:\n",
    "        total += val\n",
    "    return total"
   ]
  },
  {
   "cell_type": "code",
   "execution_count": null,
   "id": "ca3265e9-6b34-474d-a1df-1ea144ccce30",
   "metadata": {},
   "outputs": [],
   "source": [
    "This file creates a function that can be imported, it sums the numbers to calculate and return the total value."
   ]
  }
 ],
 "metadata": {
  "kernelspec": {
   "display_name": "Python [conda env:base] *",
   "language": "python",
   "name": "conda-base-py"
  },
  "language_info": {
   "codemirror_mode": {
    "name": "ipython",
    "version": 3
   },
   "file_extension": ".py",
   "mimetype": "text/x-python",
   "name": "python",
   "nbconvert_exporter": "python",
   "pygments_lexer": "ipython3",
   "version": "3.12.7"
  }
 },
 "nbformat": 4,
 "nbformat_minor": 5
}
