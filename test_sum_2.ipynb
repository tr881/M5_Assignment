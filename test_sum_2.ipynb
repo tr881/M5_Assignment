{
 "cells": [
  {
   "cell_type": "code",
   "execution_count": null,
   "id": "24394cf3-6c73-408e-806a-e115d11f3918",
   "metadata": {},
   "outputs": [],
   "source": [
    "def test_sum():\n",
    "    assert sum([1, 2, 3]) == 6, \"Should be 6\"\n",
    "\n",
    "def test_sum_tuple():\n",
    "    assert sum((1, 2, 2)) == 6, \"Should be 6\"\n",
    "\n",
    "if __name__ == \"__main__\":\n",
    "    test_sum()\n",
    "    test_sum_tuple()\n",
    "    print(\"Everything passed\")"
   ]
  },
  {
   "cell_type": "code",
   "execution_count": null,
   "id": "f5e31d82-e0ab-4728-ac98-6795f4a73655",
   "metadata": {},
   "outputs": [],
   "source": [
    "The function is designed to test in two different ways whether it \n",
    "produces the correct result for both lists and tuples. \n",
    "    The first test passes, but the second test fails \n",
    "    because it returns an incorrect result, leading to an error message."
   ]
  }
 ],
 "metadata": {
  "kernelspec": {
   "display_name": "Python [conda env:base] *",
   "language": "python",
   "name": "conda-base-py"
  },
  "language_info": {
   "codemirror_mode": {
    "name": "ipython",
    "version": 3
   },
   "file_extension": ".py",
   "mimetype": "text/x-python",
   "name": "python",
   "nbconvert_exporter": "python",
   "pygments_lexer": "ipython3",
   "version": "3.12.7"
  }
 },
 "nbformat": 4,
 "nbformat_minor": 5
}
